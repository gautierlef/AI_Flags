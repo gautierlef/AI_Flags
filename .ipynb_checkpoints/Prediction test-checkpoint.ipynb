{
 "cells": [
  {
   "cell_type": "code",
   "execution_count": 1,
   "metadata": {},
   "outputs": [],
   "source": [
    "import os\n",
    "from ctypes import *\n",
    "\n",
    "import numpy as np\n",
    "import time\n",
    "from PIL import Image\n",
    "from sklearn.metrics import accuracy_score, mean_squared_error, accuracy_score\n",
    "from IPython.display import clear_output\n",
    "from matplotlib import pyplot as plt"
   ]
  },
  {
   "cell_type": "code",
   "execution_count": 2,
   "metadata": {},
   "outputs": [],
   "source": [
    "path_to_dll = \"C:/Users/gautier/CLionProjects/MLP_Rattrapage/cmake-build-debug/libMLP3.dll\"\n",
    "mylib = cdll.LoadLibrary(path_to_dll)"
   ]
  },
  {
   "cell_type": "code",
   "execution_count": 3,
   "metadata": {},
   "outputs": [],
   "source": [
    "X_train = []\n",
    "Y_train = []\n",
    "X_test = []\n",
    "Y_test = []\n",
    "\n",
    "def import_images_and_assign_labels(folder, label, type):\n",
    "    showed = False\n",
    "    for file in os.listdir(folder):\n",
    "        image_path = folder + file\n",
    "        im = Image.open(image_path)\n",
    "        im = im.resize((32,32))\n",
    "        im = im.convert(\"RGB\")\n",
    "        im_arr = np.array(im)\n",
    "        im_arr = np.reshape(im_arr, (32 * 32 * 3))\n",
    "        if (type == \"train\"):\n",
    "            X_train.append(im_arr)\n",
    "            Y_train.append(label)\n",
    "        else:\n",
    "            X_test.append(im_arr)\n",
    "            Y_test.append(label)\n",
    "\n",
    "def import_dataset():\n",
    "    dataset_folder = \"C:/Users/gautier/CLionProjects/MLP_Rattrapage/Datasets\"\n",
    "    train_folder = dataset_folder + \"/train\"\n",
    "    test_folder = dataset_folder + \"/test\"\n",
    "    import_images_and_assign_labels(train_folder + \"/basque_flag/\", [1, -1, -1], \"train\")\n",
    "    import_images_and_assign_labels(train_folder + \"/belgium_flag/\", [-1, 1, -1], \"train\")\n",
    "    import_images_and_assign_labels(train_folder + \"/french_flag/\", [-1, -1, 1], \"train\")\n",
    "    import_images_and_assign_labels(test_folder + \"/basque_flag/\", [1, -1, -1], \"test\")\n",
    "    import_images_and_assign_labels(test_folder + \"/belgium_flag/\", [-1, 1, -1], \"test\")\n",
    "    import_images_and_assign_labels(test_folder + \"/french_flag/\", [-1, -1, 1], \"test\")\n",
    "    return (np.array(X_train) / 255.0, np.array(Y_train)), (np.array(X_test) / 255.0, np.array(Y_test))\n"
   ]
  },
  {
   "cell_type": "code",
   "execution_count": 4,
   "metadata": {},
   "outputs": [],
   "source": [
    "def mean_squared_error(Y_true, Y_pred):\n",
    "    return np.sum((Y_true - Y_pred) ** 2) / len(Y_true)"
   ]
  },
  {
   "cell_type": "code",
   "execution_count": 5,
   "metadata": {},
   "outputs": [],
   "source": [
    "def run_train():\n",
    "    (X_train, Y_train), (X_test, Y_test) = import_dataset()\n",
    "    dataset_inputs = np.array(X_train)\n",
    "    dataset_expected_outputs = np.array(Y_train)\n",
    "    #init_tab = [2, 3]\n",
    "    #init_tab = [2, 8, 3]\n",
    "    #init_tab = [2, 32, 3]\n",
    "    init_tab = [2, 32, 32, 3]\n",
    "    init_size = len(init_tab)\n",
    "    init_type = c_int * init_size\n",
    "    init = init_type(*init_tab)\n",
    "    mylib.create_mlp_model.argtypes = [init_type, c_int]\n",
    "    mylib.create_mlp_model.restype = c_void_p\n",
    "    model = mylib.create_mlp_model(init, int(init_size))\n",
    "    img_test = X_test\n",
    "    mylib.getXSize.argtypes = [c_void_p]\n",
    "    mylib.getXSize.restype = c_int\n",
    "    tmp_len = mylib.getXSize(model)\n",
    "\n",
    "    flattened_dataset_inputs = []\n",
    "    for p in dataset_inputs :\n",
    "        flattened_dataset_inputs.append(p[0])\n",
    "        flattened_dataset_inputs.append(p[1])    \n",
    "    flattened_dataset_outputs = []\n",
    "    for p in dataset_expected_outputs:\n",
    "        flattened_dataset_outputs.append(p[0])\n",
    "        flattened_dataset_outputs.append(p[1])\n",
    "        flattened_dataset_outputs.append(p[2])\n",
    "\n",
    "    arrsize_flat = len(flattened_dataset_inputs)\n",
    "    arrtype_flat = c_float * arrsize_flat\n",
    "    arr_flat = arrtype_flat(*flattened_dataset_inputs)\n",
    "    arrsize_exp = len(flattened_dataset_outputs)\n",
    "    arrtype_exp = c_float * arrsize_exp\n",
    "    arr_exp = arrtype_exp(*flattened_dataset_outputs)\n",
    "    mylib.train_classification_stochastic_gradient_backpropagation_mlp_model.argtypes = [c_void_p, arrtype_flat, c_int,\n",
    "                                                                                         arrtype_exp, c_float, c_int]\n",
    "    mylib.train_classification_stochastic_gradient_backpropagation_mlp_model.restype = None\n",
    "    mylib.train_classification_stochastic_gradient_backpropagation_mlp_model(model, arr_flat, arrsize_flat, arr_exp,\n",
    "                                                                             0.0001, 10000)\n",
    "    #####################\n",
    "    \n",
    "    arrsizeP = len(p)\n",
    "    arrtypeP = c_float * arrsizeP\n",
    "    arrP = arrtypeP(*p)\n",
    "    mylib.predict_mlp_model_classification.argtypes = [c_void_p, arrtypeP]\n",
    "    mylib.predict_mlp_model_classification.restype = POINTER(c_float)\n",
    "    \n",
    "    losses = []\n",
    "    val_losses = []\n",
    "    accs = []\n",
    "    val_accs = []\n",
    "        \n",
    "    for epoch in range(100):\n",
    "        mylib.train_classification_stochastic_gradient_backpropagation_mlp_model(model, arr_flat, arrsize_flat, arr_exp,\n",
    "                                                                             0.0001, 10000)\n",
    "        Y_pred = []\n",
    "        for p in Y_train :\n",
    "            arrsizeP = len(p)\n",
    "            arrtypeP = c_float * arrsizeP\n",
    "            arrP = arrtypeP(*p)\n",
    "            mylib.predict_mlp_model_classification.argtypes = [c_void_p, arrtypeP]\n",
    "            mylib.predict_mlp_model_classification.restype = POINTER(c_float)\n",
    "            tmp = mylib.predict_mlp_model_classification(model, arrP)\n",
    "            np_arr = np.ctypeslib.as_array(tmp, (tmp_len,))\n",
    "            Y_pred.append(np_arr)\n",
    "        loss = mean_squared_error(Y_train, Y_pred)\n",
    "        losses.append(loss)\n",
    "\n",
    "        \"\"\"val_loss = mean_squared_error(Y_test, val_Y_pred)\n",
    "        val_losses.append(val_loss)\"\"\"\n",
    "\n",
    "        \"\"\"acc = accuracy_score(np.argmax(Y_train, axis=1), np.argmax(Y_pred, axis=1))\n",
    "        accs.append(acc)\n",
    "\n",
    "        val_acc = accuracy_score(np.argmax(Y_test, axis=1), np.argmax(val_Y_pred, axis=1))\n",
    "        val_accs.append(val_acc)\"\"\"\n",
    "\n",
    "        clear_output(True)\n",
    "\n",
    "        plt.plot(losses)\n",
    "        plt.plot(val_losses)\n",
    "        plt.legend(['loss', 'val_loss'], loc='upper left')\n",
    "        plt.title('Evolution of loss (MSE)')\n",
    "        plt.xlabel('epochs')\n",
    "        plt.ylabel(f'mean squared error')\n",
    "        plt.show()  \n",
    "\n",
    "        plt.plot(accs)\n",
    "        plt.plot(val_accs)\n",
    "        plt.legend(['acc', 'val_acc'], loc='upper left')\n",
    "        plt.title('Evolution of accuracy')\n",
    "        plt.xlabel('epochs')\n",
    "        plt.ylabel(f'accuracy')\n",
    "        plt.show()"
   ]
  },
  {
   "cell_type": "code",
   "execution_count": 6,
   "metadata": {
    "scrolled": false
   },
   "outputs": [
    {
     "data": {
      "image/png": "[encoded data removed]",
      "text/plain": [
       "<Figure size 432x288 with 1 Axes>"
      ]
     },
     "metadata": {
      "needs_background": "light"
     },
     "output_type": "display_data"
    },
    {
     "data": {
      "image/png": "[encoded data removed]",
      "text/plain": [
       "<Figure size 432x288 with 1 Axes>"
      ]
     },
     "metadata": {
      "needs_background": "light"
     },
     "output_type": "display_data"
    }
   ],
   "source": [
    "if __name__ == \"__main__\":\n",
    "    run_train()"
   ]
  },
  {
   "cell_type": "code",
   "execution_count": null,
   "metadata": {},
   "outputs": [],
   "source": []
  },
  {
   "cell_type": "code",
   "execution_count": null,
   "metadata": {},
   "outputs": [],
   "source": []
  }
 ],
 "metadata": {
  "kernelspec": {
   "display_name": "Python 3",
   "language": "python",
   "name": "python3"
  },
  "language_info": {
   "codemirror_mode": {
    "name": "ipython",
    "version": 3
   },
   "file_extension": ".py",
   "mimetype": "text/x-python",
   "name": "python",
   "nbconvert_exporter": "python",
   "pygments_lexer": "ipython3",
   "version": "3.8.8"
  }
 },
 "nbformat": 4,
 "nbformat_minor": 2
}
