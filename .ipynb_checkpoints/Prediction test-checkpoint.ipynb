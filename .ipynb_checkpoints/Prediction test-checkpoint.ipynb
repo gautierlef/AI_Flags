{
 "cells": [
  {
   "cell_type": "code",
   "execution_count": 94,
   "metadata": {},
   "outputs": [],
   "source": [
    "import os\n",
    "from ctypes import *\n",
    "\n",
    "import numpy as np\n",
    "import time\n",
    "from PIL import Image\n",
    "from matplotlib import pyplot as plt"
   ]
  },
  {
   "cell_type": "code",
   "execution_count": 95,
   "metadata": {},
   "outputs": [],
   "source": [
    "path_to_dll = \"C:/Users/gautier/CLionProjects/MLP_Rattrapage/cmake-build-debug/libMLP3.dll\"\n",
    "mylib = cdll.LoadLibrary(path_to_dll)"
   ]
  },
  {
   "cell_type": "code",
   "execution_count": 96,
   "metadata": {},
   "outputs": [],
   "source": [
    "X_train = []\n",
    "Y_train = []\n",
    "X_test = []\n",
    "Y_test = []\n",
    "\n",
    "def import_images_and_assign_labels(folder, label, type, test_image):\n",
    "    showed = False\n",
    "    for file in os.listdir(folder):\n",
    "        image_path = folder + file\n",
    "        im = Image.open(image_path)\n",
    "        im = im.resize((32,32))\n",
    "        im = im.convert(\"RGB\")\n",
    "        if (type == \"test\" and test_image == 0 and not showed):\n",
    "#            im.show()\n",
    "            showed = True\n",
    "        im_arr = np.array(im)\n",
    "        im_arr = np.reshape(im_arr, (32 * 32 * 3))\n",
    "        if (type == \"train\"):\n",
    "            X_train.append(im_arr)\n",
    "            Y_train.append(label)\n",
    "        else:\n",
    "            X_test.append(im_arr)\n",
    "            Y_test.append(label)\n",
    "\n",
    "def import_dataset():\n",
    "    dataset_folder = \"C:/Users/gautier/CLionProjects/MLP_Rattrapage/Datasets\"\n",
    "    train_folder = dataset_folder + \"/train\"\n",
    "    test_folder = dataset_folder + \"/test\"\n",
    "    import_images_and_assign_labels(train_folder + \"/basque_flag/\", [1,-1,-1], \"train\", -1)\n",
    "    import_images_and_assign_labels(train_folder + \"/belgium_flag/\", [-1,1,-1], \"train\", -1)\n",
    "    import_images_and_assign_labels(train_folder + \"/french_flag/\", [-1,-1,1], \"train\", -1)\n",
    "    import_images_and_assign_labels(test_folder + \"/basque_flag/\", [1,-1,-1], \"test\", 0)\n",
    "    import_images_and_assign_labels(test_folder + \"/belgium_flag/\", [-1,1,-1], \"test\", -1)\n",
    "    import_images_and_assign_labels(test_folder + \"/french_flag/\", [-1,-1,1], \"test\", -1)\n",
    "    return (np.array(X_train) / 255.0, np.array(Y_train)), (np.array(X_test) / 255.0, np.array(Y_test))\n"
   ]
  },
  {
   "cell_type": "code",
   "execution_count": 29,
   "metadata": {},
   "outputs": [],
   "source": [
    "def run():\n",
    "    (X_train, Y_train), (X_test, Y_test) = import_dataset()\n",
    "    dataset_inputs = np.array(X_train)\n",
    "    dataset_expected_outputs = np.array(Y_train)\n",
    "    init_tab = [2, 3]\n",
    "    init_size = len(init_tab)\n",
    "    init_type = c_int * init_size\n",
    "    init = init_type(*init_tab)\n",
    "    mylib.create_mlp_model.argtypes = [init_type, c_int]\n",
    "    mylib.create_mlp_model.restype = c_void_p\n",
    "    model = mylib.create_mlp_model(init, int(init_size))\n",
    "    test_dataset = X_test\n",
    "    img_test= [X_test[0]]\n",
    "    colors = [\"blue\" if np.argmax(output) == 0 else (\"red\" if np.argmax(output) == 1 else \"green\") for output in dataset_expected_outputs]\n",
    "    mylib.getXSize.argtypes = [c_void_p]\n",
    "    mylib.getXSize.restype = c_int\n",
    "    tmp_len = mylib.getXSize(model)\n",
    "    flattened_dataset_inputs = []\n",
    "    for p in dataset_inputs :\n",
    "        flattened_dataset_inputs.append(p[0])\n",
    "        flattened_dataset_inputs.append(p[1])\n",
    "    arrsize_flat = len(flattened_dataset_inputs)\n",
    "    arrtype_flat = c_float * arrsize_flat\n",
    "    arr_flat = arrtype_flat(*flattened_dataset_inputs)\n",
    "    arrsize_exp = len(flattened_dataset_inputs)\n",
    "    arrtype_exp = c_float * arrsize_exp\n",
    "    arr_exp = arrtype_exp(*flattened_dataset_inputs)\n",
    "    predicted_outputs = []\n",
    "    for p in img_test :\n",
    "        arrsizeP = len(p)\n",
    "        arrtypeP = c_float * arrsizeP\n",
    "        arrP = arrtypeP(*p)\n",
    "        mylib.predict_mlp_model_classification.argtypes = [c_void_p, arrtypeP]\n",
    "        mylib.predict_mlp_model_classification.restype = POINTER(c_float)\n",
    "        tmp = []\n",
    "        tmp = mylib.predict_mlp_model_classification(model, arrP)\n",
    "        np_arr = np.ctypeslib.as_array(tmp, (tmp_len,))\n",
    "        predicted_outputs.append(np_arr)\n",
    "#    mylib.destroy_MLP(model)"
   ]
  },
  {
   "cell_type": "code",
   "execution_count": 30,
   "metadata": {
    "scrolled": true
   },
   "outputs": [],
   "source": [
    "if __name__ == \"__main__\":\n",
    "    run()"
   ]
  },
  {
   "cell_type": "code",
   "execution_count": 97,
   "metadata": {},
   "outputs": [],
   "source": [
    "def run_train():\n",
    "    (X_train, Y_train), (X_test, Y_test) = import_dataset()\n",
    "    dataset_inputs = np.array(X_train)\n",
    "    dataset_expected_outputs = np.array(Y_train)\n",
    "    init_tab = [2,32, 32,3]\n",
    "    init_size = len(init_tab)\n",
    "    init_type = c_int * init_size\n",
    "    init = init_type(*init_tab)\n",
    "    mylib.create_mlp_model.argtypes = [init_type, c_int]\n",
    "    mylib.create_mlp_model.restype = c_void_p\n",
    "    model1 = mylib.create_mlp_model(init, int(init_size))\n",
    "    test_dataset = X_test\n",
    "    img_test = [X_test[0]]\n",
    "    print(img_test)\n",
    "    colors = [\"blue\" if np.argmax(output) == 0 else (\"red\" if np.argmax(output) == 1 else \"green\") for output in dataset_expected_outputs]\n",
    "    mylib.getXSize.argtypes = [c_void_p]\n",
    "    mylib.getXSize.restype = c_int\n",
    "    tmp_len = mylib.getXSize(model1)\n",
    "    flattened_dataset_inputs = []\n",
    "    for p in dataset_inputs :\n",
    "        flattened_dataset_inputs.append(p[0])\n",
    "        flattened_dataset_inputs.append(p[1])    \n",
    "    flattened_dataset_outputs = []\n",
    "    for p in dataset_expected_outputs:\n",
    "        flattened_dataset_outputs.append(p[0])\n",
    "        flattened_dataset_outputs.append(p[1])\n",
    "        flattened_dataset_outputs.append(p[2])\n",
    "    arrsize_flat = len(flattened_dataset_inputs)\n",
    "    arrtype_flat = c_float * arrsize_flat\n",
    "    arr_flat = arrtype_flat(*flattened_dataset_inputs)\n",
    "    arrsize_exp = len(flattened_dataset_outputs)\n",
    "    arrtype_exp = c_float * arrsize_exp\n",
    "    arr_exp = arrtype_exp(*flattened_dataset_outputs)\n",
    "    mylib.train_classification_stochastic_gradient_backpropagation_mlp_model.argtypes = [c_void_p, arrtype_flat, c_int,\n",
    "                                                                                         arrtype_exp, c_float, c_int]\n",
    "    mylib.train_classification_stochastic_gradient_backpropagation_mlp_model.restype = None\n",
    "    mylib.train_classification_stochastic_gradient_backpropagation_mlp_model(model1, arr_flat, arrsize_flat, arr_exp,\n",
    "                                                                             0.0001, 10000)\n",
    "    predicted_outputs = []\n",
    "    for p in img_test :\n",
    "        arrsizeP = len(p)\n",
    "        arrtypeP = c_float * arrsizeP\n",
    "        arrP = arrtypeP(*p)\n",
    "        mylib.predict_mlp_model_classification.argtypes = [c_void_p, arrtypeP]\n",
    "        mylib.predict_mlp_model_classification.restype = POINTER(c_float)\n",
    "        tmp = mylib.predict_mlp_model_classification(model1, arrP)\n",
    "        np_arr = np.ctypeslib.as_array(tmp, (tmp_len,))\n",
    "        predicted_outputs.append(np_arr)\n",
    "        if predicted_outputs[0][0] > predicted_outputs[0][1] and predicted_outputs[0][0] > predicted_outputs[0][2]:\n",
    "            print(\"Basque flag\")\n",
    "        elif predicted_outputs[0][1] > predicted_outputs[0][0] and predicted_outputs[0][1] > predicted_outputs[0][2]:\n",
    "            print(\"Belgium flag\")\n",
    "        else :\n",
    "            print(\"French flag\")\n",
    "        \n",
    "    accs = correct / total\n",
    "    plt.plot(accs)\n",
    "    plt.plot(val_accs)\n",
    "    plt.legend(['accuracy'], loc='upper left')\n",
    "    plt.title('Evolution of accuracy')\n",
    "    plt.xlabel('epochs')\n",
    "    plt.ylabel(f'accuracy')\n",
    "    plt.show()"
   ]
  },
  {
   "cell_type": "code",
   "execution_count": 98,
   "metadata": {
    "scrolled": false
   },
   "outputs": [
    {
     "name": "stderr",
     "output_type": "stream",
     "text": [
      "<ipython-input-96-831e01260b5e>:39: VisibleDeprecationWarning: Creating an ndarray from ragged nested sequences (which is a list-or-tuple of lists-or-tuples-or ndarrays with different lengths or shapes) is deprecated. If you meant to do this, you must specify 'dtype=object' when creating the ndarray\n",
      "  return (np.array(X_train) / 255.0, np.array(Y_train)), (np.array(X_test) / 255.0, np.array(Y_test))\n"
     ]
    },
    {
     "ename": "TypeError",
     "evalue": "unsupported operand type(s) for /: 'list' and 'float'",
     "output_type": "error",
     "traceback": [
      "\u001b[1;31m---------------------------------------------------------------------------\u001b[0m",
      "\u001b[1;31mTypeError\u001b[0m                                 Traceback (most recent call last)",
      "\u001b[1;32m<ipython-input-98-dd759f16fac1>\u001b[0m in \u001b[0;36m<module>\u001b[1;34m\u001b[0m\n\u001b[0;32m      1\u001b[0m \u001b[1;32mif\u001b[0m \u001b[0m__name__\u001b[0m \u001b[1;33m==\u001b[0m \u001b[1;34m\"__main__\"\u001b[0m\u001b[1;33m:\u001b[0m\u001b[1;33m\u001b[0m\u001b[1;33m\u001b[0m\u001b[0m\n\u001b[1;32m----> 2\u001b[1;33m     \u001b[0mrun_train\u001b[0m\u001b[1;33m(\u001b[0m\u001b[1;33m)\u001b[0m\u001b[1;33m\u001b[0m\u001b[1;33m\u001b[0m\u001b[0m\n\u001b[0m",
      "\u001b[1;32m<ipython-input-97-251de5c3cf39>\u001b[0m in \u001b[0;36mrun_train\u001b[1;34m()\u001b[0m\n\u001b[0;32m      1\u001b[0m \u001b[1;32mdef\u001b[0m \u001b[0mrun_train\u001b[0m\u001b[1;33m(\u001b[0m\u001b[1;33m)\u001b[0m\u001b[1;33m:\u001b[0m\u001b[1;33m\u001b[0m\u001b[1;33m\u001b[0m\u001b[0m\n\u001b[1;32m----> 2\u001b[1;33m     \u001b[1;33m(\u001b[0m\u001b[0mX_train\u001b[0m\u001b[1;33m,\u001b[0m \u001b[0mY_train\u001b[0m\u001b[1;33m)\u001b[0m\u001b[1;33m,\u001b[0m \u001b[1;33m(\u001b[0m\u001b[0mX_test\u001b[0m\u001b[1;33m,\u001b[0m \u001b[0mY_test\u001b[0m\u001b[1;33m)\u001b[0m \u001b[1;33m=\u001b[0m \u001b[0mimport_dataset\u001b[0m\u001b[1;33m(\u001b[0m\u001b[1;33m)\u001b[0m\u001b[1;33m\u001b[0m\u001b[1;33m\u001b[0m\u001b[0m\n\u001b[0m\u001b[0;32m      3\u001b[0m     \u001b[0mdataset_inputs\u001b[0m \u001b[1;33m=\u001b[0m \u001b[0mnp\u001b[0m\u001b[1;33m.\u001b[0m\u001b[0marray\u001b[0m\u001b[1;33m(\u001b[0m\u001b[0mX_train\u001b[0m\u001b[1;33m)\u001b[0m\u001b[1;33m\u001b[0m\u001b[1;33m\u001b[0m\u001b[0m\n\u001b[0;32m      4\u001b[0m     \u001b[0mdataset_expected_outputs\u001b[0m \u001b[1;33m=\u001b[0m \u001b[0mnp\u001b[0m\u001b[1;33m.\u001b[0m\u001b[0marray\u001b[0m\u001b[1;33m(\u001b[0m\u001b[0mY_train\u001b[0m\u001b[1;33m)\u001b[0m\u001b[1;33m\u001b[0m\u001b[1;33m\u001b[0m\u001b[0m\n\u001b[0;32m      5\u001b[0m     \u001b[0minit_tab\u001b[0m \u001b[1;33m=\u001b[0m \u001b[1;33m[\u001b[0m\u001b[1;36m2\u001b[0m\u001b[1;33m,\u001b[0m\u001b[1;36m32\u001b[0m\u001b[1;33m,\u001b[0m \u001b[1;36m32\u001b[0m\u001b[1;33m,\u001b[0m\u001b[1;36m3\u001b[0m\u001b[1;33m]\u001b[0m\u001b[1;33m\u001b[0m\u001b[1;33m\u001b[0m\u001b[0m\n",
      "\u001b[1;32m<ipython-input-96-831e01260b5e>\u001b[0m in \u001b[0;36mimport_dataset\u001b[1;34m()\u001b[0m\n\u001b[0;32m     37\u001b[0m     \u001b[0mimport_images_and_assign_labels\u001b[0m\u001b[1;33m(\u001b[0m\u001b[0mtest_folder\u001b[0m \u001b[1;33m+\u001b[0m \u001b[1;34m\"/belgium_flag/\"\u001b[0m\u001b[1;33m,\u001b[0m \u001b[1;33m[\u001b[0m\u001b[1;33m-\u001b[0m\u001b[1;36m1\u001b[0m\u001b[1;33m,\u001b[0m\u001b[1;36m1\u001b[0m\u001b[1;33m,\u001b[0m\u001b[1;33m-\u001b[0m\u001b[1;36m1\u001b[0m\u001b[1;33m]\u001b[0m\u001b[1;33m,\u001b[0m \u001b[1;34m\"test\"\u001b[0m\u001b[1;33m,\u001b[0m \u001b[1;33m-\u001b[0m\u001b[1;36m1\u001b[0m\u001b[1;33m)\u001b[0m\u001b[1;33m\u001b[0m\u001b[1;33m\u001b[0m\u001b[0m\n\u001b[0;32m     38\u001b[0m     \u001b[0mimport_images_and_assign_labels\u001b[0m\u001b[1;33m(\u001b[0m\u001b[0mtest_folder\u001b[0m \u001b[1;33m+\u001b[0m \u001b[1;34m\"/french_flag/\"\u001b[0m\u001b[1;33m,\u001b[0m \u001b[1;33m[\u001b[0m\u001b[1;33m-\u001b[0m\u001b[1;36m1\u001b[0m\u001b[1;33m,\u001b[0m\u001b[1;33m-\u001b[0m\u001b[1;36m1\u001b[0m\u001b[1;33m,\u001b[0m\u001b[1;36m1\u001b[0m\u001b[1;33m]\u001b[0m\u001b[1;33m,\u001b[0m \u001b[1;34m\"test\"\u001b[0m\u001b[1;33m,\u001b[0m \u001b[1;33m-\u001b[0m\u001b[1;36m1\u001b[0m\u001b[1;33m)\u001b[0m\u001b[1;33m\u001b[0m\u001b[1;33m\u001b[0m\u001b[0m\n\u001b[1;32m---> 39\u001b[1;33m     \u001b[1;32mreturn\u001b[0m \u001b[1;33m(\u001b[0m\u001b[0mnp\u001b[0m\u001b[1;33m.\u001b[0m\u001b[0marray\u001b[0m\u001b[1;33m(\u001b[0m\u001b[0mX_train\u001b[0m\u001b[1;33m)\u001b[0m \u001b[1;33m/\u001b[0m \u001b[1;36m255.0\u001b[0m\u001b[1;33m,\u001b[0m \u001b[0mnp\u001b[0m\u001b[1;33m.\u001b[0m\u001b[0marray\u001b[0m\u001b[1;33m(\u001b[0m\u001b[0mY_train\u001b[0m\u001b[1;33m)\u001b[0m\u001b[1;33m)\u001b[0m\u001b[1;33m,\u001b[0m \u001b[1;33m(\u001b[0m\u001b[0mnp\u001b[0m\u001b[1;33m.\u001b[0m\u001b[0marray\u001b[0m\u001b[1;33m(\u001b[0m\u001b[0mX_test\u001b[0m\u001b[1;33m)\u001b[0m \u001b[1;33m/\u001b[0m \u001b[1;36m255.0\u001b[0m\u001b[1;33m,\u001b[0m \u001b[0mnp\u001b[0m\u001b[1;33m.\u001b[0m\u001b[0marray\u001b[0m\u001b[1;33m(\u001b[0m\u001b[0mY_test\u001b[0m\u001b[1;33m)\u001b[0m\u001b[1;33m)\u001b[0m\u001b[1;33m\u001b[0m\u001b[1;33m\u001b[0m\u001b[0m\n\u001b[0m",
      "\u001b[1;31mTypeError\u001b[0m: unsupported operand type(s) for /: 'list' and 'float'"
     ]
    }
   ],
   "source": [
    "if __name__ == \"__main__\":\n",
    "    run_train()"
   ]
  },
  {
   "cell_type": "code",
   "execution_count": null,
   "metadata": {},
   "outputs": [],
   "source": []
  }
 ],
 "metadata": {
  "kernelspec": {
   "display_name": "Python 3",
   "language": "python",
   "name": "python3"
  },
  "language_info": {
   "codemirror_mode": {
    "name": "ipython",
    "version": 3
   },
   "file_extension": ".py",
   "mimetype": "text/x-python",
   "name": "python",
   "nbconvert_exporter": "python",
   "pygments_lexer": "ipython3",
   "version": "3.8.8"
  }
 },
 "nbformat": 4,
 "nbformat_minor": 2
}
